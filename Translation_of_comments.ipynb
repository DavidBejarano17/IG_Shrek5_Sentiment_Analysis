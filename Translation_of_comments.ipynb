{
 "cells": [
  {
   "cell_type": "markdown",
   "id": "806c664b",
   "metadata": {},
   "source": [
    "# Translation section of the comments"
   ]
  },
  {
   "cell_type": "markdown",
   "id": "beb35413",
   "metadata": {},
   "source": [
    "## Description\n",
    "The code below was implemented to create a new column of the comments tranlated to english. The resaons is to imporve and get a better analysis by the sentiments of the people, beacase  VADER can´t recongnize words in other languages"
   ]
  },
  {
   "cell_type": "code",
   "execution_count": 34,
   "id": "5694cbb7",
   "metadata": {},
   "outputs": [],
   "source": [
    "#Importation of all requiered tools for translation \n",
    "import pandas as pd\n",
    "import numpy as np\n",
    "import seaborn as sns\n",
    "import time\n",
    "\n",
    "from deep_translator import GoogleTranslator\n",
    "from multiprocessing import Pool"
   ]
  },
  {
   "cell_type": "code",
   "execution_count": 35,
   "id": "98f29693",
   "metadata": {},
   "outputs": [],
   "source": [
    "df = pd.read_csv('C:\\\\Users\\hdbl2\\OneDrive\\Desktop\\CursoPython\\Datsets\\\\shrek_commets_INST.csv', delimiter=';')"
   ]
  },
  {
   "cell_type": "code",
   "execution_count": 36,
   "id": "aec9580f",
   "metadata": {},
   "outputs": [
    {
     "data": {
      "text/plain": [
       "comment_id          object\n",
       "created_at         float64\n",
       "profile_pic_url     object\n",
       "text                object\n",
       "user_id            float64\n",
       "username            object\n",
       "dtype: object"
      ]
     },
     "execution_count": 36,
     "metadata": {},
     "output_type": "execute_result"
    }
   ],
   "source": [
    "df.dtypes"
   ]
  },
  {
   "cell_type": "code",
   "execution_count": 37,
   "id": "257bfa12",
   "metadata": {
    "collapsed": true
   },
   "outputs": [
    {
     "name": "stderr",
     "output_type": "stream",
     "text": [
      "C:\\Users\\hdbl2\\AppData\\Local\\Temp\\ipykernel_24812\\934732085.py:35: SettingWithCopyWarning: \n",
      "A value is trying to be set on a copy of a slice from a DataFrame.\n",
      "Try using .loc[row_indexer,col_indexer] = value instead\n",
      "\n",
      "See the caveats in the documentation: https://pandas.pydata.org/pandas-docs/stable/user_guide/indexing.html#returning-a-view-versus-a-copy\n",
      "  df_batch['text'] = df_batch['text'].astype(str)\n"
     ]
    },
    {
     "name": "stdout",
     "output_type": "stream",
     "text": [
      "Translating rows 1 to 1000...\n"
     ]
    },
    {
     "name": "stderr",
     "output_type": "stream",
     "text": [
      "C:\\Users\\hdbl2\\AppData\\Local\\Temp\\ipykernel_24812\\934732085.py:40: SettingWithCopyWarning: \n",
      "A value is trying to be set on a copy of a slice from a DataFrame.\n",
      "Try using .loc[row_indexer,col_indexer] = value instead\n",
      "\n",
      "See the caveats in the documentation: https://pandas.pydata.org/pandas-docs/stable/user_guide/indexing.html#returning-a-view-versus-a-copy\n",
      "  df_batch['translated_comments'] = parallel_translate(df_batch, 'text')\n",
      "C:\\Users\\hdbl2\\AppData\\Local\\Temp\\ipykernel_24812\\934732085.py:35: SettingWithCopyWarning: \n",
      "A value is trying to be set on a copy of a slice from a DataFrame.\n",
      "Try using .loc[row_indexer,col_indexer] = value instead\n",
      "\n",
      "See the caveats in the documentation: https://pandas.pydata.org/pandas-docs/stable/user_guide/indexing.html#returning-a-view-versus-a-copy\n",
      "  df_batch['text'] = df_batch['text'].astype(str)\n"
     ]
    },
    {
     "name": "stdout",
     "output_type": "stream",
     "text": [
      "Translation time for batch 1 to 1000: 21.26 seconds\n",
      "Translating rows 1001 to 2000...\n"
     ]
    },
    {
     "name": "stderr",
     "output_type": "stream",
     "text": [
      "C:\\Users\\hdbl2\\AppData\\Local\\Temp\\ipykernel_24812\\934732085.py:40: SettingWithCopyWarning: \n",
      "A value is trying to be set on a copy of a slice from a DataFrame.\n",
      "Try using .loc[row_indexer,col_indexer] = value instead\n",
      "\n",
      "See the caveats in the documentation: https://pandas.pydata.org/pandas-docs/stable/user_guide/indexing.html#returning-a-view-versus-a-copy\n",
      "  df_batch['translated_comments'] = parallel_translate(df_batch, 'text')\n",
      "C:\\Users\\hdbl2\\AppData\\Local\\Temp\\ipykernel_24812\\934732085.py:35: SettingWithCopyWarning: \n",
      "A value is trying to be set on a copy of a slice from a DataFrame.\n",
      "Try using .loc[row_indexer,col_indexer] = value instead\n",
      "\n",
      "See the caveats in the documentation: https://pandas.pydata.org/pandas-docs/stable/user_guide/indexing.html#returning-a-view-versus-a-copy\n",
      "  df_batch['text'] = df_batch['text'].astype(str)\n"
     ]
    },
    {
     "name": "stdout",
     "output_type": "stream",
     "text": [
      "Translation time for batch 1001 to 2000: 22.11 seconds\n",
      "Translating rows 2001 to 3000...\n"
     ]
    },
    {
     "name": "stderr",
     "output_type": "stream",
     "text": [
      "C:\\Users\\hdbl2\\AppData\\Local\\Temp\\ipykernel_24812\\934732085.py:40: SettingWithCopyWarning: \n",
      "A value is trying to be set on a copy of a slice from a DataFrame.\n",
      "Try using .loc[row_indexer,col_indexer] = value instead\n",
      "\n",
      "See the caveats in the documentation: https://pandas.pydata.org/pandas-docs/stable/user_guide/indexing.html#returning-a-view-versus-a-copy\n",
      "  df_batch['translated_comments'] = parallel_translate(df_batch, 'text')\n",
      "C:\\Users\\hdbl2\\AppData\\Local\\Temp\\ipykernel_24812\\934732085.py:35: SettingWithCopyWarning: \n",
      "A value is trying to be set on a copy of a slice from a DataFrame.\n",
      "Try using .loc[row_indexer,col_indexer] = value instead\n",
      "\n",
      "See the caveats in the documentation: https://pandas.pydata.org/pandas-docs/stable/user_guide/indexing.html#returning-a-view-versus-a-copy\n",
      "  df_batch['text'] = df_batch['text'].astype(str)\n"
     ]
    },
    {
     "name": "stdout",
     "output_type": "stream",
     "text": [
      "Translation time for batch 2001 to 3000: 20.25 seconds\n",
      "Translating rows 3001 to 4000...\n"
     ]
    },
    {
     "name": "stderr",
     "output_type": "stream",
     "text": [
      "C:\\Users\\hdbl2\\AppData\\Local\\Temp\\ipykernel_24812\\934732085.py:40: SettingWithCopyWarning: \n",
      "A value is trying to be set on a copy of a slice from a DataFrame.\n",
      "Try using .loc[row_indexer,col_indexer] = value instead\n",
      "\n",
      "See the caveats in the documentation: https://pandas.pydata.org/pandas-docs/stable/user_guide/indexing.html#returning-a-view-versus-a-copy\n",
      "  df_batch['translated_comments'] = parallel_translate(df_batch, 'text')\n",
      "C:\\Users\\hdbl2\\AppData\\Local\\Temp\\ipykernel_24812\\934732085.py:35: SettingWithCopyWarning: \n",
      "A value is trying to be set on a copy of a slice from a DataFrame.\n",
      "Try using .loc[row_indexer,col_indexer] = value instead\n",
      "\n",
      "See the caveats in the documentation: https://pandas.pydata.org/pandas-docs/stable/user_guide/indexing.html#returning-a-view-versus-a-copy\n",
      "  df_batch['text'] = df_batch['text'].astype(str)\n"
     ]
    },
    {
     "name": "stdout",
     "output_type": "stream",
     "text": [
      "Translation time for batch 3001 to 4000: 17.66 seconds\n",
      "Translating rows 4001 to 5000...\n"
     ]
    },
    {
     "name": "stderr",
     "output_type": "stream",
     "text": [
      "C:\\Users\\hdbl2\\AppData\\Local\\Temp\\ipykernel_24812\\934732085.py:40: SettingWithCopyWarning: \n",
      "A value is trying to be set on a copy of a slice from a DataFrame.\n",
      "Try using .loc[row_indexer,col_indexer] = value instead\n",
      "\n",
      "See the caveats in the documentation: https://pandas.pydata.org/pandas-docs/stable/user_guide/indexing.html#returning-a-view-versus-a-copy\n",
      "  df_batch['translated_comments'] = parallel_translate(df_batch, 'text')\n",
      "C:\\Users\\hdbl2\\AppData\\Local\\Temp\\ipykernel_24812\\934732085.py:35: SettingWithCopyWarning: \n",
      "A value is trying to be set on a copy of a slice from a DataFrame.\n",
      "Try using .loc[row_indexer,col_indexer] = value instead\n",
      "\n",
      "See the caveats in the documentation: https://pandas.pydata.org/pandas-docs/stable/user_guide/indexing.html#returning-a-view-versus-a-copy\n",
      "  df_batch['text'] = df_batch['text'].astype(str)\n"
     ]
    },
    {
     "name": "stdout",
     "output_type": "stream",
     "text": [
      "Translation time for batch 4001 to 5000: 17.29 seconds\n",
      "Translating rows 5001 to 6000...\n"
     ]
    },
    {
     "name": "stderr",
     "output_type": "stream",
     "text": [
      "C:\\Users\\hdbl2\\AppData\\Local\\Temp\\ipykernel_24812\\934732085.py:40: SettingWithCopyWarning: \n",
      "A value is trying to be set on a copy of a slice from a DataFrame.\n",
      "Try using .loc[row_indexer,col_indexer] = value instead\n",
      "\n",
      "See the caveats in the documentation: https://pandas.pydata.org/pandas-docs/stable/user_guide/indexing.html#returning-a-view-versus-a-copy\n",
      "  df_batch['translated_comments'] = parallel_translate(df_batch, 'text')\n",
      "C:\\Users\\hdbl2\\AppData\\Local\\Temp\\ipykernel_24812\\934732085.py:35: SettingWithCopyWarning: \n",
      "A value is trying to be set on a copy of a slice from a DataFrame.\n",
      "Try using .loc[row_indexer,col_indexer] = value instead\n",
      "\n",
      "See the caveats in the documentation: https://pandas.pydata.org/pandas-docs/stable/user_guide/indexing.html#returning-a-view-versus-a-copy\n",
      "  df_batch['text'] = df_batch['text'].astype(str)\n"
     ]
    },
    {
     "name": "stdout",
     "output_type": "stream",
     "text": [
      "Translation time for batch 5001 to 6000: 17.48 seconds\n",
      "Translating rows 6001 to 7000...\n"
     ]
    },
    {
     "name": "stderr",
     "output_type": "stream",
     "text": [
      "C:\\Users\\hdbl2\\AppData\\Local\\Temp\\ipykernel_24812\\934732085.py:40: SettingWithCopyWarning: \n",
      "A value is trying to be set on a copy of a slice from a DataFrame.\n",
      "Try using .loc[row_indexer,col_indexer] = value instead\n",
      "\n",
      "See the caveats in the documentation: https://pandas.pydata.org/pandas-docs/stable/user_guide/indexing.html#returning-a-view-versus-a-copy\n",
      "  df_batch['translated_comments'] = parallel_translate(df_batch, 'text')\n",
      "C:\\Users\\hdbl2\\AppData\\Local\\Temp\\ipykernel_24812\\934732085.py:35: SettingWithCopyWarning: \n",
      "A value is trying to be set on a copy of a slice from a DataFrame.\n",
      "Try using .loc[row_indexer,col_indexer] = value instead\n",
      "\n",
      "See the caveats in the documentation: https://pandas.pydata.org/pandas-docs/stable/user_guide/indexing.html#returning-a-view-versus-a-copy\n",
      "  df_batch['text'] = df_batch['text'].astype(str)\n"
     ]
    },
    {
     "name": "stdout",
     "output_type": "stream",
     "text": [
      "Translation time for batch 6001 to 7000: 21.22 seconds\n",
      "Translating rows 7001 to 8000...\n"
     ]
    },
    {
     "name": "stderr",
     "output_type": "stream",
     "text": [
      "C:\\Users\\hdbl2\\AppData\\Local\\Temp\\ipykernel_24812\\934732085.py:40: SettingWithCopyWarning: \n",
      "A value is trying to be set on a copy of a slice from a DataFrame.\n",
      "Try using .loc[row_indexer,col_indexer] = value instead\n",
      "\n",
      "See the caveats in the documentation: https://pandas.pydata.org/pandas-docs/stable/user_guide/indexing.html#returning-a-view-versus-a-copy\n",
      "  df_batch['translated_comments'] = parallel_translate(df_batch, 'text')\n",
      "C:\\Users\\hdbl2\\AppData\\Local\\Temp\\ipykernel_24812\\934732085.py:35: SettingWithCopyWarning: \n",
      "A value is trying to be set on a copy of a slice from a DataFrame.\n",
      "Try using .loc[row_indexer,col_indexer] = value instead\n",
      "\n",
      "See the caveats in the documentation: https://pandas.pydata.org/pandas-docs/stable/user_guide/indexing.html#returning-a-view-versus-a-copy\n",
      "  df_batch['text'] = df_batch['text'].astype(str)\n"
     ]
    },
    {
     "name": "stdout",
     "output_type": "stream",
     "text": [
      "Translation time for batch 7001 to 8000: 20.12 seconds\n",
      "Translating rows 8001 to 8712...\n",
      "Translation time for batch 8001 to 8712: 14.81 seconds\n",
      "Total translation time: 172.22 seconds\n"
     ]
    },
    {
     "name": "stderr",
     "output_type": "stream",
     "text": [
      "C:\\Users\\hdbl2\\AppData\\Local\\Temp\\ipykernel_24812\\934732085.py:40: SettingWithCopyWarning: \n",
      "A value is trying to be set on a copy of a slice from a DataFrame.\n",
      "Try using .loc[row_indexer,col_indexer] = value instead\n",
      "\n",
      "See the caveats in the documentation: https://pandas.pydata.org/pandas-docs/stable/user_guide/indexing.html#returning-a-view-versus-a-copy\n",
      "  df_batch['translated_comments'] = parallel_translate(df_batch, 'text')\n"
     ]
    }
   ],
   "source": [
    "from deep_translator import GoogleTranslator\n",
    "from concurrent.futures import ThreadPoolExecutor\n",
    "\n",
    "#Function that will translate the text comments\n",
    "def translate_text(text):\n",
    "    try:\n",
    "        if pd.isna(text) or not isinstance(text, str) or text.strip() == \"\": #If found N/A, return blank space\n",
    "            return \"\"\n",
    "        \n",
    "        translated = GoogleTranslator(source='auto', target='en').translate(text) #Use the google translator tool\n",
    "        return translated\n",
    "    except Exception as e:\n",
    "        print(f\"Translation failed for: {text}, Error: {e}\") #Message for the possible faild of translation\n",
    "        return text\n",
    "\n",
    "# Function that applies translation in parallel\n",
    "#The translation process is to slow, it was used a strategy to speed up the procces\n",
    "#Using the concurrent.futures python can optimize the translation task, disributing the work load and reduce time\n",
    "def parallel_translate(df, column):\n",
    "    with ThreadPoolExecutor() as executor:\n",
    "        return list(executor.map(translate_text, df[column]))\n",
    "\n",
    "# Function to process 1000 rows at a time\n",
    "def translate_in_batches(df, batch_size=1000, max_rows=9000):\n",
    "    start_index = 0\n",
    "    end_index = batch_size\n",
    "\n",
    "    translated_comments = []  # List to store all translated comments\n",
    "\n",
    "    while start_index < min(max_rows, len(df)):\n",
    "        # Slice the dataframe to get the current batch of 1000 rows\n",
    "        df_batch = df.iloc[start_index:end_index]\n",
    "        \n",
    "        # Convert text column to string\n",
    "        df_batch['text'] = df_batch['text'].astype(str)\n",
    "        \n",
    "        # Apply parallel translation\n",
    "        print(f\"Translating rows {start_index + 1} to {end_index}...\")\n",
    "        start_time = time.time()\n",
    "        df_batch['translated_comments'] = parallel_translate(df_batch, 'text')\n",
    "        translated_comments.extend(df_batch['translated_comments'].tolist())\n",
    "        print(f\"Translation time for batch {start_index + 1} to {end_index}: {time.time() - start_time:.2f} seconds\")\n",
    "        \n",
    "        # Update indices for the next batch\n",
    "        start_index = end_index\n",
    "        end_index = min(end_index + batch_size, len(df))  # Ensure we don’t exceed the DataFrame size\n",
    "\n",
    "    return translated_comments\n",
    "\n",
    "# Ensure 'df' is the dataset you're working with\n",
    "#df = pd.read_csv('C:\\\\Users\\hdbl2\\OneDrive\\Desktop\\CursoPython\\Datsets\\\\shrek_commets_INST.csv', delimiter=';')\n",
    "df_clean = df.dropna(subset=[\"text\"]) #remove the N/A on text column\n",
    "df_trans = df_clean.copy()  # Dataset cleaned\n",
    "\n",
    "# Translate the 'text' column in batches\n",
    "start_time = time.time()\n",
    "translated_comments = translate_in_batches(df_trans, batch_size=1000, max_rows=9000)\n",
    "print(f\"Total translation time: {time.time() - start_time:.2f} seconds\")\n",
    "\n",
    "# Add translated comments to the dataframe\n",
    "df_trans['translated_comments'] = translated_comments\n",
    "\n",
    "# Display the DataFrame with the translated comments\n",
    "pd.set_option('display.max_colwidth', None)\n",
    "table_transl = df_trans[['comment_id','username', 'text', 'translated_comments', 'created_at']]  # Show only important columns\n"
   ]
  },
  {
   "cell_type": "code",
   "execution_count": 38,
   "id": "054dbda3",
   "metadata": {},
   "outputs": [
    {
     "data": {
      "text/html": [
       "<div>\n",
       "<style scoped>\n",
       "    .dataframe tbody tr th:only-of-type {\n",
       "        vertical-align: middle;\n",
       "    }\n",
       "\n",
       "    .dataframe tbody tr th {\n",
       "        vertical-align: top;\n",
       "    }\n",
       "\n",
       "    .dataframe thead th {\n",
       "        text-align: right;\n",
       "    }\n",
       "</style>\n",
       "<table border=\"1\" class=\"dataframe\">\n",
       "  <thead>\n",
       "    <tr style=\"text-align: right;\">\n",
       "      <th></th>\n",
       "      <th>comment_id</th>\n",
       "      <th>username</th>\n",
       "      <th>text</th>\n",
       "      <th>translated_comments</th>\n",
       "      <th>created_at</th>\n",
       "    </tr>\n",
       "  </thead>\n",
       "  <tbody>\n",
       "    <tr>\n",
       "      <th>0</th>\n",
       "      <td>18108918547480299</td>\n",
       "      <td>pablobrumm</td>\n",
       "      <td>Muito ruim</td>\n",
       "      <td>Very bad</td>\n",
       "      <td>1.741234e+09</td>\n",
       "    </tr>\n",
       "    <tr>\n",
       "      <th>1</th>\n",
       "      <td>17922193934943166</td>\n",
       "      <td>hooman_saghi.2010</td>\n",
       "      <td>Why😭</td>\n",
       "      <td>Why😭</td>\n",
       "      <td>1.741235e+09</td>\n",
       "    </tr>\n",
       "    <tr>\n",
       "      <th>2</th>\n",
       "      <td>18390414847129171</td>\n",
       "      <td>bensajes_nahual</td>\n",
       "      <td>😭</td>\n",
       "      <td>None</td>\n",
       "      <td>1.741235e+09</td>\n",
       "    </tr>\n",
       "    <tr>\n",
       "      <th>3</th>\n",
       "      <td>18022853681435244</td>\n",
       "      <td>hiking_with_saeed</td>\n",
       "      <td>Can you restore Shrek's face to the previous version?</td>\n",
       "      <td>Can you restore Shrek's face to the previous version?</td>\n",
       "      <td>1.741235e+09</td>\n",
       "    </tr>\n",
       "    <tr>\n",
       "      <th>4</th>\n",
       "      <td>18038712758432147</td>\n",
       "      <td>hiking_with_saeed</td>\n",
       "      <td>🖕👎🖕👎</td>\n",
       "      <td>None</td>\n",
       "      <td>1.741235e+09</td>\n",
       "    </tr>\n",
       "    <tr>\n",
       "      <th>...</th>\n",
       "      <td>...</td>\n",
       "      <td>...</td>\n",
       "      <td>...</td>\n",
       "      <td>...</td>\n",
       "      <td>...</td>\n",
       "    </tr>\n",
       "    <tr>\n",
       "      <th>9919</th>\n",
       "      <td>18059369398978547</td>\n",
       "      <td>lucas_ra10.02</td>\n",
       "      <td>@habi_65_ aqui</td>\n",
       "      <td>@inhab_65_ here</td>\n",
       "      <td>1.740838e+09</td>\n",
       "    </tr>\n",
       "    <tr>\n",
       "      <th>9920</th>\n",
       "      <td>17898548340144291</td>\n",
       "      <td>karol_goncalves_m</td>\n",
       "      <td>💔💔💔💔💔</td>\n",
       "      <td>None</td>\n",
       "      <td>1.740838e+09</td>\n",
       "    </tr>\n",
       "    <tr>\n",
       "      <th>9922</th>\n",
       "      <td>18029147957334468</td>\n",
       "      <td>chqrlottek</td>\n",
       "      <td>#notmyshrek</td>\n",
       "      <td>#NOTMYSHREK</td>\n",
       "      <td>1.740838e+09</td>\n",
       "    </tr>\n",
       "    <tr>\n",
       "      <th>9923</th>\n",
       "      <td>18051238781329295</td>\n",
       "      <td>_matador_ox</td>\n",
       "      <td>🗿🫷</td>\n",
       "      <td>None</td>\n",
       "      <td>1.740838e+09</td>\n",
       "    </tr>\n",
       "    <tr>\n",
       "      <th>9924</th>\n",
       "      <td>18219148771292675</td>\n",
       "      <td>julio_silbass</td>\n",
       "      <td>Zendaya again???????? Why????</td>\n",
       "      <td>Zendaya again???????? Why????</td>\n",
       "      <td>1.740838e+09</td>\n",
       "    </tr>\n",
       "  </tbody>\n",
       "</table>\n",
       "<p>8712 rows × 5 columns</p>\n",
       "</div>"
      ],
      "text/plain": [
       "             comment_id           username  \\\n",
       "0     18108918547480299         pablobrumm   \n",
       "1     17922193934943166  hooman_saghi.2010   \n",
       "2     18390414847129171    bensajes_nahual   \n",
       "3     18022853681435244  hiking_with_saeed   \n",
       "4     18038712758432147  hiking_with_saeed   \n",
       "...                 ...                ...   \n",
       "9919  18059369398978547      lucas_ra10.02   \n",
       "9920  17898548340144291  karol_goncalves_m   \n",
       "9922  18029147957334468         chqrlottek   \n",
       "9923  18051238781329295        _matador_ox   \n",
       "9924  18219148771292675      julio_silbass   \n",
       "\n",
       "                                                       text  \\\n",
       "0                                                Muito ruim   \n",
       "1                                                      Why😭   \n",
       "2                                                         😭   \n",
       "3     Can you restore Shrek's face to the previous version?   \n",
       "4                                                      🖕👎🖕👎   \n",
       "...                                                     ...   \n",
       "9919                                         @habi_65_ aqui   \n",
       "9920                                                  💔💔💔💔💔   \n",
       "9922                                            #notmyshrek   \n",
       "9923                                                     🗿🫷   \n",
       "9924                          Zendaya again???????? Why????   \n",
       "\n",
       "                                        translated_comments    created_at  \n",
       "0                                                  Very bad  1.741234e+09  \n",
       "1                                                      Why😭  1.741235e+09  \n",
       "2                                                      None  1.741235e+09  \n",
       "3     Can you restore Shrek's face to the previous version?  1.741235e+09  \n",
       "4                                                      None  1.741235e+09  \n",
       "...                                                     ...           ...  \n",
       "9919                                        @inhab_65_ here  1.740838e+09  \n",
       "9920                                                   None  1.740838e+09  \n",
       "9922                                            #NOTMYSHREK  1.740838e+09  \n",
       "9923                                                   None  1.740838e+09  \n",
       "9924                          Zendaya again???????? Why????  1.740838e+09  \n",
       "\n",
       "[8712 rows x 5 columns]"
      ]
     },
     "execution_count": 38,
     "metadata": {},
     "output_type": "execute_result"
    }
   ],
   "source": [
    "table_transl"
   ]
  },
  {
   "cell_type": "markdown",
   "id": "7173a36a",
   "metadata": {},
   "source": [
    "Is verified that the new created table that have columns as comment_id, username, text and the new one that are the important. It will be created the new table in a csv file. And then it will be merged with the table"
   ]
  },
  {
   "cell_type": "code",
   "execution_count": 39,
   "id": "b2d4a66a",
   "metadata": {},
   "outputs": [],
   "source": [
    "table_transl.to_csv('Table_translated.csv',index=False)"
   ]
  }
 ],
 "metadata": {
  "kernelspec": {
   "display_name": "Python 3 (ipykernel)",
   "language": "python",
   "name": "python3"
  },
  "language_info": {
   "codemirror_mode": {
    "name": "ipython",
    "version": 3
   },
   "file_extension": ".py",
   "mimetype": "text/x-python",
   "name": "python",
   "nbconvert_exporter": "python",
   "pygments_lexer": "ipython3",
   "version": "3.11.3"
  }
 },
 "nbformat": 4,
 "nbformat_minor": 5
}
